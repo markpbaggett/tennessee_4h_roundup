{
 "cells": [
  {
   "cell_type": "markdown",
   "metadata": {},
   "source": [
    "# Creating Subtitles with AI and Machine Learning\n",
    "\n",
    "In this session, we will be split into groups. Each group will use this Jupyter Notebook to automatically generate a subtitle file using the technologies we discussed previously.\n",
    "\n",
    "Below, find your group and follow the instructions."
   ]
  },
  {
   "cell_type": "markdown",
   "metadata": {},
   "source": [
    "## Group 1 - A\n",
    "\n",
    "Mason, Gordon A.: WWII Oral History\n",
    "https://digital.lib.utk.edu/collections/islandora/object/wwiioh%3A2001\n",
    "Language Model: Tiny\n"
   ]
  },
  {
   "cell_type": "markdown",
   "metadata": {},
   "source": [
    "## Group 1 - B\n",
    "\n",
    "Mason, Gordon A.: WWII Oral History\n",
    "https://digital.lib.utk.edu/collections/islandora/object/wwiioh%3A2001\n",
    "Language Model: Base"
   ]
  },
  {
   "cell_type": "code",
   "execution_count": 1,
   "metadata": {},
   "outputs": [],
   "source": [
    "group1a = {\n",
    "    \"request\": \"https://digital.lib.utk.edu/collections/islandora/object/wwiioh%3A2001/datastream/PROXY_MP3\",\n",
    "    \"language_model\": \"tiny\",\n",
    "    \"name\": \"wwiioh_2001.mp3\"\n",
    "}\n",
    "\n",
    "group1b = {\n",
    "    \"request\": \"https://digital.lib.utk.edu/collections/islandora/object/wwiioh%3A2001/datastream/PROXY_MP3\",\n",
    "    \"language_model\": \"base\",\n",
    "    \"name\": \"wwiioh_2001.mp3\"\n",
    "}"
   ]
  },
  {
   "cell_type": "markdown",
   "metadata": {},
   "source": [
    "## Choose Group\n",
    "\n",
    "In the seciont below, set `group` equal to your group number (e.g. `group1a`, `group1b`, `group2a`, `group2b`).\n",
    "\n",
    "It should look something like:\n",
    "\n",
    "```\n",
    "group = group2a\n",
    "```"
   ]
  },
  {
   "cell_type": "code",
   "execution_count": 2,
   "metadata": {},
   "outputs": [],
   "source": [
    "group = group1a"
   ]
  },
  {
   "cell_type": "markdown",
   "metadata": {},
   "source": [
    "## Download Resource\n",
    "\n",
    "The code below will download the file the A/V file so we can generate a subtitle."
   ]
  },
  {
   "cell_type": "code",
   "execution_count": 3,
   "metadata": {},
   "outputs": [],
   "source": [
    "import requests\n",
    "import os\n",
    "\n",
    "r = requests.get(group['request'])\n",
    "os.makedirs('downloads', exist_ok=True)\n",
    "with open(f\"downloads/{group['name']}\", 'wb') as our_sample:\n",
    "    our_sample.write(r.content)\n"
   ]
  },
  {
   "cell_type": "markdown",
   "metadata": {},
   "source": [
    "# Generate a Closed Captioning File"
   ]
  },
  {
   "cell_type": "code",
   "execution_count": 7,
   "metadata": {},
   "outputs": [],
   "source": [
    "import warnings\n",
    "\n",
    "# @Todo: remove this when numba is updated to 0.53.1\n",
    "warnings.filterwarnings(\"ignore\", message=\".*The 'nopython' keyword.*\")\n",
    "import whisper\n",
    "import os\n",
    "from whisper.utils import get_writer\n",
    "\n",
    "file = f\"downloads/{group['name']}\"\n",
    "model = whisper.load_model(group['language_model'])\n",
    "result = model.transcribe(file, fp16=False)\n",
    "os.makedirs('class_test', exist_ok=True)\n",
    "output_file = f'sample_{group[\"language_model\"]}.vtt'\n",
    "writer = get_writer('vtt', 'class_test')\n",
    "writer(result, output_file)\n",
    "with open(f'class_test/sample_{group[\"language_model\"]}.vtt', 'r') as current:\n",
    "    for line in current:\n",
    "        line"
   ]
  },
  {
   "cell_type": "code",
   "execution_count": null,
   "metadata": {},
   "outputs": [],
   "source": []
  }
 ],
 "metadata": {
  "kernelspec": {
   "display_name": "Python 3 (ipykernel)",
   "language": "python",
   "name": "python3"
  },
  "language_info": {
   "codemirror_mode": {
    "name": "ipython",
    "version": 3
   },
   "file_extension": ".py",
   "mimetype": "text/x-python",
   "name": "python",
   "nbconvert_exporter": "python",
   "pygments_lexer": "ipython3",
   "version": "3.10.7"
  }
 },
 "nbformat": 4,
 "nbformat_minor": 1
}
